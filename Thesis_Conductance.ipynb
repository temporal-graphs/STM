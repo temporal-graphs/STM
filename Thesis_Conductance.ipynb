{
 "cells": [
  {
   "cell_type": "code",
   "execution_count": 2,
   "metadata": {},
   "outputs": [],
   "source": [
    "# Check conductence data\n",
    "import numpy as np\n",
    "import numpy.linalg as LA\n",
    "import scipy\n",
    "from scipy.sparse import csgraph\n",
    "from scipy.linalg import fractional_matrix_power"
   ]
  },
  {
   "cell_type": "code",
   "execution_count": 3,
   "metadata": {},
   "outputs": [
    {
     "data": {
      "text/plain": [
       "array([5, 4, 0, 1, 3, 8, 6, 7, 9, 2], dtype=int64)"
      ]
     },
     "execution_count": 3,
     "metadata": {},
     "output_type": "execute_result"
    }
   ],
   "source": [
    "W = np.array([[0,3,1,1,1,0,0,0,0,0], \n",
    "                  [3,0,1,1,1,1,1,0,0,0],\n",
    "                 [1,1,0,0,0,0,0,0,0,0],\n",
    "                  [1,1,0,0,0,0,0,0,0,0],\n",
    "                  [1,1,0,0,0,0,0,0,0,0],\n",
    "                 [0,1,0,0,0,0,1,1,1,0],\n",
    "                 [0,1,0,0,0,1,0,0,0,0],\n",
    "                 [0,0,0,0,0,1,0,0,2,1],\n",
    "                  [0,0,0,0,0,1,0,2,0,1],\n",
    "                  [0,0,0,0,0,0,0,1,1,0]\n",
    "                 ])\n",
    "D = np.zeros((10,10))\n",
    "W_dsum = np.sum(W,axis=1)\n",
    "np.fill_diagonal(D,W_dsum)\n",
    "\n",
    "D_inv_half = fractional_matrix_power(D,-.5)\n",
    "L = D_inv_half.dot(D-W).dot(D_inv_half)\n",
    "w,v = LA.eig(L)\n",
    "np.argsort(D_inv_half.dot(v[1]))"
   ]
  },
  {
   "cell_type": "code",
   "execution_count": 6,
   "metadata": {},
   "outputs": [
    {
     "ename": "ModuleNotFoundError",
     "evalue": "No module named 'matlab'",
     "output_type": "error",
     "traceback": [
      "\u001b[1;31m---------------------------------------------------------------------------\u001b[0m",
      "\u001b[1;31mModuleNotFoundError\u001b[0m                       Traceback (most recent call last)",
      "\u001b[1;32m<ipython-input-6-754f7d50ef2a>\u001b[0m in \u001b[0;36m<module>\u001b[1;34m\u001b[0m\n\u001b[1;32m----> 1\u001b[1;33m \u001b[1;32mimport\u001b[0m \u001b[0mmatlab\u001b[0m\u001b[1;33m.\u001b[0m\u001b[0mengine\u001b[0m\u001b[1;33m\u001b[0m\u001b[1;33m\u001b[0m\u001b[0m\n\u001b[0m",
      "\u001b[1;31mModuleNotFoundError\u001b[0m: No module named 'matlab'"
     ]
    }
   ],
   "source": [
    "import matlab.engine"
   ]
  },
  {
   "cell_type": "code",
   "execution_count": 4,
   "metadata": {},
   "outputs": [
    {
     "data": {
      "text/plain": [
       "array([[6., 0., 0., 0., 0., 0., 0., 0., 0., 0.],\n",
       "       [0., 8., 0., 0., 0., 0., 0., 0., 0., 0.],\n",
       "       [0., 0., 2., 0., 0., 0., 0., 0., 0., 0.],\n",
       "       [0., 0., 0., 2., 0., 0., 0., 0., 0., 0.],\n",
       "       [0., 0., 0., 0., 2., 0., 0., 0., 0., 0.],\n",
       "       [0., 0., 0., 0., 0., 4., 0., 0., 0., 0.],\n",
       "       [0., 0., 0., 0., 0., 0., 2., 0., 0., 0.],\n",
       "       [0., 0., 0., 0., 0., 0., 0., 4., 0., 0.],\n",
       "       [0., 0., 0., 0., 0., 0., 0., 0., 4., 0.],\n",
       "       [0., 0., 0., 0., 0., 0., 0., 0., 0., 2.]])"
      ]
     },
     "execution_count": 4,
     "metadata": {},
     "output_type": "execute_result"
    }
   ],
   "source": [
    "D"
   ]
  },
  {
   "cell_type": "code",
   "execution_count": null,
   "metadata": {},
   "outputs": [],
   "source": []
  }
 ],
 "metadata": {
  "kernelspec": {
   "display_name": "Python 3",
   "language": "python",
   "name": "python3"
  },
  "language_info": {
   "codemirror_mode": {
    "name": "ipython",
    "version": 3
   },
   "file_extension": ".py",
   "mimetype": "text/x-python",
   "name": "python",
   "nbconvert_exporter": "python",
   "pygments_lexer": "ipython3",
   "version": "3.8.3"
  }
 },
 "nbformat": 4,
 "nbformat_minor": 4
}
